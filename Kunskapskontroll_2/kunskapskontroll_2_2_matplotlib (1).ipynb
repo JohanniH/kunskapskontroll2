{
 "cells": [
  {
   "cell_type": "markdown",
   "id": "eb49a753",
   "metadata": {},
   "source": [
    "# Matplotlib\n",
    "Read the tutorials: https://matplotlib.org/stable/users/explain/quick_start.html and https://matplotlib.org/stable/tutorials/pyplot.html before solving the exercises below. The \"Pyplot Tutorial\" you do not read in detail but it is good to know about since the fact that there are two approaches to plotting can be confusing if you are not aware of both of the approaches."
   ]
  },
  {
   "cell_type": "code",
   "execution_count": null,
   "id": "9b1ffb1b",
   "metadata": {},
   "outputs": [],
   "source": [
    "import numpy as np\n",
    "import matplotlib.pyplot as plt"
   ]
  },
  {
   "cell_type": "markdown",
   "id": "35e4f6cd",
   "metadata": {},
   "source": [
    "### Plotting in Matplotlib can be done in either of two ways, which ones? Which way is the recommended approach?"
   ]
  },
  {
   "cell_type": "code",
   "execution_count": null,
   "id": "2db0fb3e",
   "metadata": {},
   "outputs": [],
   "source": [
    "# Pyplot API (State-Based Interface)\n",
    "# Object-Oriented API\n",
    "# The Object-Oriented API is the recommended approach."
   ]
  },
  {
   "cell_type": "markdown",
   "id": "00d119a1",
   "metadata": {},
   "source": [
    "### Explain shortly what a figure, axes, axis and an artist is in Matplotlib."
   ]
  },
  {
   "cell_type": "code",
   "execution_count": null,
   "id": "9b9fa05a",
   "metadata": {},
   "outputs": [],
   "source": [
    "# Figure =\tEntire canvas\tplt.figure()\n",
    "# Axes = \tIndividual plot area\tfig.add_subplot(1, 1, 1)\n",
    "# Axis =\tx-axis or y-axis of a plot\tax.xaxis or ax.yaxis\n",
    "# Artist =\tAny visual element on the plot\tLine2D, Text, Rectangle, etc."
   ]
  },
  {
   "cell_type": "markdown",
   "id": "986b324c",
   "metadata": {},
   "source": [
    "### When plotting in Matplotlib, what is the expected input data type?"
   ]
  },
  {
   "cell_type": "code",
   "execution_count": null,
   "id": "79a18b02",
   "metadata": {},
   "outputs": [],
   "source": [
    "# When plotting in Matplotlib, the expected input data types are quite flexible, allowing for a wide range of data structures to be used."
   ]
  },
  {
   "cell_type": "markdown",
   "id": "8ff546a1",
   "metadata": {},
   "source": [
    "### Create a plot of the function y = x^2 [from -4 to 4, hint use the np.linspace function] both in the object-oriented approach and the pyplot approach. Your plot should have a title and axis-labels."
   ]
  },
  {
   "cell_type": "code",
   "execution_count": null,
   "id": "738b8a75",
   "metadata": {},
   "outputs": [
    {
     "ename": "ModuleNotFoundError",
     "evalue": "No module named 'matplotlib'",
     "output_type": "error",
     "traceback": [
      "\u001b[1;31m---------------------------------------------------------------------------\u001b[0m",
      "\u001b[1;31mModuleNotFoundError\u001b[0m                       Traceback (most recent call last)",
      "Cell \u001b[1;32mIn[2], line 2\u001b[0m\n\u001b[0;32m      1\u001b[0m \u001b[38;5;28;01mimport\u001b[39;00m \u001b[38;5;21;01mnumpy\u001b[39;00m \u001b[38;5;28;01mas\u001b[39;00m \u001b[38;5;21;01mnp\u001b[39;00m\n\u001b[1;32m----> 2\u001b[0m \u001b[38;5;28;01mimport\u001b[39;00m \u001b[38;5;21;01mmatplotlib\u001b[39;00m\u001b[38;5;21;01m.\u001b[39;00m\u001b[38;5;21;01mpyplot\u001b[39;00m \u001b[38;5;28;01mas\u001b[39;00m \u001b[38;5;21;01mplt\u001b[39;00m\n\u001b[0;32m      4\u001b[0m \u001b[38;5;66;03m# Generate data\u001b[39;00m\n\u001b[0;32m      5\u001b[0m x \u001b[38;5;241m=\u001b[39m np\u001b[38;5;241m.\u001b[39mlinspace(\u001b[38;5;241m-\u001b[39m\u001b[38;5;241m4\u001b[39m, \u001b[38;5;241m4\u001b[39m, \u001b[38;5;241m100\u001b[39m)\n",
      "\u001b[1;31mModuleNotFoundError\u001b[0m: No module named 'matplotlib'"
     ]
    }
   ],
   "source": [
    "# Generate data\n",
    "x = np.linspace(-4, 4, 100)\n",
    "y = x**2\n",
    "\n",
    "# Create a simple plot\n",
    "plt.plot(x, y, label=\"y = x^2\", color=\"red\")\n",
    "\n",
    "# Customize the plot\n",
    "plt.title(\"Plot of y = x^2\")\n",
    "plt.xlabel(\"x-axis\")\n",
    "plt.ylabel(\"y-axis\")\n",
    "plt.legend()\n",
    "\n",
    "# Show the plot\n",
    "plt.show()"
   ]
  },
  {
   "cell_type": "code",
   "execution_count": null,
   "id": "17b50694",
   "metadata": {},
   "outputs": [],
   "source": [
    "# Generate data\n",
    "x = np.linspace(-4, 4, 100)\n",
    "y = x**2\n",
    "\n",
    "# Create a figure and axes\n",
    "fig, ax = plt.subplots()\n",
    "ax.plot(x, y, label=\"y = x^2\", color=\"blue\")\n",
    "\n",
    "# Customize the plot\n",
    "ax.set_title(\"Plot of y = x^2\")\n",
    "ax.set_xlabel(\"x-axis\")\n",
    "ax.set_ylabel(\"y-axis\")\n",
    "ax.legend()\n",
    "\n",
    "# Show the plot\n",
    "plt.show()"
   ]
  },
  {
   "cell_type": "markdown",
   "id": "f6313412",
   "metadata": {},
   "source": [
    "### Create a figure containing 2  subplots where the first is a scatter plot and the second is a bar plot. You have the data below. "
   ]
  },
  {
   "cell_type": "code",
   "execution_count": null,
   "id": "81b6723d",
   "metadata": {},
   "outputs": [],
   "source": [
    "# Data for scatter plot\n",
    "np.random.seed(15)\n",
    "random_data_x = np.random.randn(1000)\n",
    "random_data_y = np.random.randn(1000)\n",
    "x = np.linspace(-2, 2, 100)\n",
    "y = x**2\n",
    "\n",
    "# Data for bar plot\n",
    "fruit_data = {'grapes': 22, 'apple': 8, 'orange': 15, 'lemon': 20, 'lime': 25}\n",
    "names = list(fruit_data.keys())\n",
    "values = list(fruit_data.values())"
   ]
  },
  {
   "cell_type": "code",
   "execution_count": 3,
   "id": "b84f15d0",
   "metadata": {},
   "outputs": [
    {
     "ename": "ModuleNotFoundError",
     "evalue": "No module named 'matplotlib'",
     "output_type": "error",
     "traceback": [
      "\u001b[1;31m---------------------------------------------------------------------------\u001b[0m",
      "\u001b[1;31mModuleNotFoundError\u001b[0m                       Traceback (most recent call last)",
      "Cell \u001b[1;32mIn[3], line 2\u001b[0m\n\u001b[0;32m      1\u001b[0m \u001b[38;5;28;01mimport\u001b[39;00m \u001b[38;5;21;01mnumpy\u001b[39;00m \u001b[38;5;28;01mas\u001b[39;00m \u001b[38;5;21;01mnp\u001b[39;00m\n\u001b[1;32m----> 2\u001b[0m \u001b[38;5;28;01mimport\u001b[39;00m \u001b[38;5;21;01mmatplotlib\u001b[39;00m\u001b[38;5;21;01m.\u001b[39;00m\u001b[38;5;21;01mpyplot\u001b[39;00m \u001b[38;5;28;01mas\u001b[39;00m \u001b[38;5;21;01mplt\u001b[39;00m\n\u001b[0;32m      4\u001b[0m \u001b[38;5;66;03m# Data for scatter plot\u001b[39;00m\n\u001b[0;32m      5\u001b[0m np\u001b[38;5;241m.\u001b[39mrandom\u001b[38;5;241m.\u001b[39mseed(\u001b[38;5;241m15\u001b[39m)\n",
      "\u001b[1;31mModuleNotFoundError\u001b[0m: No module named 'matplotlib'"
     ]
    }
   ],
   "source": [
    "import numpy as np\n",
    "import matplotlib.pyplot as plt\n",
    "\n",
    "# Data for scatter plot\n",
    "np.random.seed(15)\n",
    "random_data_x = np.random.randn(1000)\n",
    "random_data_y = np.random.randn(1000)\n",
    "x = np.linspace(-2, 2, 100)\n",
    "y = x**2\n",
    "\n",
    "# Data for bar plot\n",
    "fruit_data = {'grapes': 22, 'apple': 8, 'orange': 15, 'lemon': 20, 'lime': 25}\n",
    "names = list(fruit_data.keys())\n",
    "values = list(fruit_data.values())\n",
    "\n",
    "# Create the figure and subplots\n",
    "fig, axes = plt.subplots(1, 2, figsize=(12, 6))\n",
    "\n",
    "# Scatter plot\n",
    "axes[0].scatter(random_data_x, random_data_y, alpha=0.6, color=\"blue\", label=\"Random Data\")\n",
    "axes[0].plot(x, y, color=\"red\", label=\"y = x^2\")\n",
    "axes[0].set_title(\"Scatter Plot\")\n",
    "axes[0].set_xlabel(\"x\")\n",
    "axes[0].set_ylabel(\"y\")\n",
    "axes[0].legend()\n",
    "\n",
    "# Bar plot\n",
    "axes[1].bar(names, values, color=[\"purple\", \"green\", \"orange\", \"yellow\", \"lime\"])\n",
    "axes[1].set_title(\"Bar Plot\")\n",
    "axes[1].set_xlabel(\"Fruits\")\n",
    "axes[1].set_ylabel(\"Count\")\n",
    "\n",
    "# Adjust layout and show\n",
    "plt.tight_layout()\n",
    "plt.show()\n"
   ]
  }
 ],
 "metadata": {
  "kernelspec": {
   "display_name": "Python 3",
   "language": "python",
   "name": "python3"
  },
  "language_info": {
   "codemirror_mode": {
    "name": "ipython",
    "version": 3
   },
   "file_extension": ".py",
   "mimetype": "text/x-python",
   "name": "python",
   "nbconvert_exporter": "python",
   "pygments_lexer": "ipython3",
   "version": "3.11.9"
  }
 },
 "nbformat": 4,
 "nbformat_minor": 5
}
